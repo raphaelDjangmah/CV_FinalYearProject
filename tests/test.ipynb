{
 "cells": [
  {
   "cell_type": "code",
   "execution_count": 96,
   "metadata": {},
   "outputs": [],
   "source": [
    "from datetime import datetime\n",
    "import Utilities as util\n",
    "import cv2\n",
    "import os\n",
    "import ModelExit"
   ]
  },
  {
   "cell_type": "code",
   "execution_count": 101,
   "metadata": {},
   "outputs": [],
   "source": [
    "modelEx = ModelExit.CheckExit()\n",
    "modelEx.setcode(12)"
   ]
  },
  {
   "cell_type": "code",
   "execution_count": 67,
   "metadata": {},
   "outputs": [
    {
     "data": {
      "text/plain": [
       "10998877"
      ]
     },
     "execution_count": 67,
     "metadata": {},
     "output_type": "execute_result"
    }
   ],
   "source": [
    "studentID = int(input('Input your ID: '))\n",
    "studentID"
   ]
  },
  {
   "cell_type": "code",
   "execution_count": 81,
   "metadata": {},
   "outputs": [],
   "source": [
    "#get items from the database\n",
    "db = util.Databases()\n",
    "db = db.queryDb(studentID)\n",
    "\n",
    "if(len(db) == 0):\n",
    "    print(\"No Data in the database\")\n",
    "else:\n",
    "    #get the time and data\n",
    "    data = db[0]\n",
    "    date = data[12].date()\n",
    "    items = []\n",
    "\n",
    "    for i in range(2,len(data)-1):\n",
    "        if(data[i] !=  None):\n",
    "            items.append(data[i])"
   ]
  },
  {
   "cell_type": "code",
   "execution_count": 83,
   "metadata": {},
   "outputs": [
    {
     "name": "stdout",
     "output_type": "stream",
     "text": [
      "[[[230 232 230]\n",
      "  [232 235 232]\n",
      "  [230 232 230]\n",
      "  ...\n",
      "  [226 230 223]\n",
      "  [226 230 223]\n",
      "  [230 233 226]]\n",
      "\n",
      " [[227 233 229]\n",
      "  [227 234 231]\n",
      "  [226 233 229]\n",
      "  ...\n",
      "  [225 229 222]\n",
      "  [229 232 225]\n",
      "  [230 233 226]]\n",
      "\n",
      " [[229 231 228]\n",
      "  [225 228 225]\n",
      "  [231 234 230]\n",
      "  ...\n",
      "  [225 229 222]\n",
      "  [224 228 220]\n",
      "  [224 228 220]]\n",
      "\n",
      " ...\n",
      "\n",
      " [[183 195 191]\n",
      "  [185 197 194]\n",
      "  [184 197 194]\n",
      "  ...\n",
      "  [185 197 194]\n",
      "  [188 201 197]\n",
      "  [184 196 193]]\n",
      "\n",
      " [[182 194 190]\n",
      "  [184 196 193]\n",
      "  [185 197 194]\n",
      "  ...\n",
      "  [186 198 195]\n",
      "  [187 198 195]\n",
      "  [185 195 191]]\n",
      "\n",
      " [[185 197 194]\n",
      "  [184 196 193]\n",
      "  [187 200 196]\n",
      "  ...\n",
      "  [185 197 194]\n",
      "  [184 196 193]\n",
      "  [189 201 197]]]\n"
     ]
    }
   ],
   "source": [
    "#get the images from files using the date and time\n",
    "if(items == None):\n",
    "    print('No item recognized on you on entry')\n",
    "else:\n",
    "    #get the file from the directory\n",
    "    path = f'../../data/ObjectsDetected/{date}/{studentID}/entry/'\n",
    "\n",
    "    for img in items:\n",
    "        image = cv2.imread(f'{path}/{img}.png')\n",
    "\n",
    "        print(image)"
   ]
  },
  {
   "cell_type": "code",
   "execution_count": 103,
   "metadata": {},
   "outputs": [
    {
     "data": {
      "text/plain": [
       "[2, 3, 4, 5]"
      ]
     },
     "execution_count": 103,
     "metadata": {},
     "output_type": "execute_result"
    }
   ],
   "source": [
    "val  = [1,2,3,4,5]\n",
    "\n",
    "val[1:]"
   ]
  }
 ],
 "metadata": {
  "kernelspec": {
   "display_name": "envCV",
   "language": "python",
   "name": "python3"
  },
  "language_info": {
   "codemirror_mode": {
    "name": "ipython",
    "version": 3
   },
   "file_extension": ".py",
   "mimetype": "text/x-python",
   "name": "python",
   "nbconvert_exporter": "python",
   "pygments_lexer": "ipython3",
   "version": "3.11.2"
  },
  "orig_nbformat": 4
 },
 "nbformat": 4,
 "nbformat_minor": 2
}
